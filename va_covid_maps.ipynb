{
  "nbformat": 4,
  "nbformat_minor": 0,
  "metadata": {
    "colab": {
      "name": "va-covid-maps.ipynb",
      "provenance": [],
      "collapsed_sections": [],
      "authorship_tag": "ABX9TyNIbM0ktU1Yk2scvi1NtP26"
    },
    "kernelspec": {
      "name": "python3",
      "display_name": "Python 3"
    }
  },
  "cells": [
    {
      "cell_type": "markdown",
      "metadata": {
        "id": "hpPrQXB8tS2X",
        "colab_type": "text"
      },
      "source": [
        "# Overview"
      ]
    },
    {
      "cell_type": "markdown",
      "metadata": {
        "id": "xAkafZOnt5o0",
        "colab_type": "text"
      },
      "source": [
        "In notebooks at the [va-covid-eda](https://github.com/jammy-bot/va-covid-eda) github repository, we explore how cases of Coronavirus, consequent hospitalizations, and related deaths in Virginia's Hampton Roads region compare to those reported in other areas of the state, including the state's capital city of Richmond. We relied on interactive plotting with Plotly Express, to visualize data for multiple localities (including population data) on a single figure, with the option to hover or drill - down for greater detail (link to [Featured Notebooks](https://github.com/jammy-bot/va-covid-eda#featured-notebooks)).\n",
        "\n",
        "Animated plots used in our previous notebooks enable us to quickly make visual comparisons across multiple localities, over time. Even the few static plots we include clearly indicate that the Fairfax area was impacted more severely than other localities, in raw numbers as well as by per 1,000 of locality population. However, the plots do not easily reference some factors likely influencing the spread of the virus. They do not show us that Fairfax borders Washington, D.C., or that Virginia Beach (in Hampton Roads) is a regional tourist destination. This type of information might be better communicated, at a glance, by incorporating relevant maps images into our visualizations. That is what we will do in this current exploration.\n",
        "\n",
        "We will recall datasets from our previous exploration and stay within the same timeframe, for the sake of consistency. We also want to maintain a level interactive publishing ability, comparative to that which--by using the Plotly Express and Datapane libraries on Deepnote-- we previously attained."
      ]
    },
    {
      "cell_type": "markdown",
      "metadata": {
        "id": "rdJUQ7RF8X9P",
        "colab_type": "text"
      },
      "source": [
        "# Import Libraries"
      ]
    },
    {
      "cell_type": "code",
      "metadata": {
        "id": "_he-LUqp8c4e",
        "colab_type": "code",
        "colab": {
          "base_uri": "https://localhost:8080/",
          "height": 616
        },
        "outputId": "69d4b44e-9063-43e2-f57e-6d8d4f61b863"
      },
      "source": [
        "import os             # for directory / path operations\n",
        "import urllib.request # for internet file operations\n",
        "\n",
        "import pandas as pd\n",
        "import numpy as np\n",
        "import pickle         # for working with serialized files\n",
        "import matplotlib.pyplot as plt\n",
        "%matplotlib inline\n",
        "\n",
        "# loading python's `autoreload`, to update any module changes\n",
        "%load_ext autoreload\n",
        "\n",
        "# turning on `autoreload`\n",
        "%autoreload 2\n",
        "\n",
        "# installing descartes to generate geospatial plots in matplotlib\n",
        "!pip install descartes\n",
        "\n",
        "# note: no need to import descartes\n",
        "# install geopandas to extend pandas operations to geospatial data\n",
        "!pip install geopandas\n",
        "\n",
        "import geopandas as gpd\n",
        "import gdal\n",
        "import shapely\n",
        "\n",
        "# viewing the current working directory\n",
        "os.getcwd()"
      ],
      "execution_count": 1,
      "outputs": [
        {
          "output_type": "stream",
          "text": [
            "Requirement already satisfied: descartes in /usr/local/lib/python3.6/dist-packages (1.1.0)\n",
            "Requirement already satisfied: matplotlib in /usr/local/lib/python3.6/dist-packages (from descartes) (3.2.2)\n",
            "Requirement already satisfied: numpy>=1.11 in /usr/local/lib/python3.6/dist-packages (from matplotlib->descartes) (1.18.5)\n",
            "Requirement already satisfied: kiwisolver>=1.0.1 in /usr/local/lib/python3.6/dist-packages (from matplotlib->descartes) (1.2.0)\n",
            "Requirement already satisfied: cycler>=0.10 in /usr/local/lib/python3.6/dist-packages (from matplotlib->descartes) (0.10.0)\n",
            "Requirement already satisfied: pyparsing!=2.0.4,!=2.1.2,!=2.1.6,>=2.0.1 in /usr/local/lib/python3.6/dist-packages (from matplotlib->descartes) (2.4.7)\n",
            "Requirement already satisfied: python-dateutil>=2.1 in /usr/local/lib/python3.6/dist-packages (from matplotlib->descartes) (2.8.1)\n",
            "Requirement already satisfied: six in /usr/local/lib/python3.6/dist-packages (from cycler>=0.10->matplotlib->descartes) (1.15.0)\n",
            "Collecting geopandas\n",
            "\u001b[?25l  Downloading https://files.pythonhosted.org/packages/f7/a4/e66aafbefcbb717813bf3a355c8c4fc3ed04ea1dd7feb2920f2f4f868921/geopandas-0.8.1-py2.py3-none-any.whl (962kB)\n",
            "\u001b[K     |████████████████████████████████| 972kB 2.7MB/s \n",
            "\u001b[?25hRequirement already satisfied: shapely in /usr/local/lib/python3.6/dist-packages (from geopandas) (1.7.1)\n",
            "Collecting fiona\n",
            "\u001b[?25l  Downloading https://files.pythonhosted.org/packages/36/8b/e8b2c11bed5373c8e98edb85ce891b09aa1f4210fd451d0fb3696b7695a2/Fiona-1.8.17-cp36-cp36m-manylinux1_x86_64.whl (14.8MB)\n",
            "\u001b[K     |████████████████████████████████| 14.8MB 326kB/s \n",
            "\u001b[?25hRequirement already satisfied: pandas>=0.23.0 in /usr/local/lib/python3.6/dist-packages (from geopandas) (1.0.5)\n",
            "Collecting pyproj>=2.2.0\n",
            "\u001b[?25l  Downloading https://files.pythonhosted.org/packages/e5/c3/071e080230ac4b6c64f1a2e2f9161c9737a2bc7b683d2c90b024825000c0/pyproj-2.6.1.post1-cp36-cp36m-manylinux2010_x86_64.whl (10.9MB)\n",
            "\u001b[K     |████████████████████████████████| 10.9MB 45.1MB/s \n",
            "\u001b[?25hRequirement already satisfied: six>=1.7 in /usr/local/lib/python3.6/dist-packages (from fiona->geopandas) (1.15.0)\n",
            "Requirement already satisfied: attrs>=17 in /usr/local/lib/python3.6/dist-packages (from fiona->geopandas) (20.2.0)\n",
            "Collecting munch\n",
            "  Downloading https://files.pythonhosted.org/packages/cc/ab/85d8da5c9a45e072301beb37ad7f833cd344e04c817d97e0cc75681d248f/munch-2.5.0-py2.py3-none-any.whl\n",
            "Collecting click-plugins>=1.0\n",
            "  Downloading https://files.pythonhosted.org/packages/e9/da/824b92d9942f4e472702488857914bdd50f73021efea15b4cad9aca8ecef/click_plugins-1.1.1-py2.py3-none-any.whl\n",
            "Requirement already satisfied: click<8,>=4.0 in /usr/local/lib/python3.6/dist-packages (from fiona->geopandas) (7.1.2)\n",
            "Collecting cligj>=0.5\n",
            "  Downloading https://files.pythonhosted.org/packages/e4/be/30a58b4b0733850280d01f8bd132591b4668ed5c7046761098d665ac2174/cligj-0.5.0-py3-none-any.whl\n",
            "Requirement already satisfied: numpy>=1.13.3 in /usr/local/lib/python3.6/dist-packages (from pandas>=0.23.0->geopandas) (1.18.5)\n",
            "Requirement already satisfied: pytz>=2017.2 in /usr/local/lib/python3.6/dist-packages (from pandas>=0.23.0->geopandas) (2018.9)\n",
            "Requirement already satisfied: python-dateutil>=2.6.1 in /usr/local/lib/python3.6/dist-packages (from pandas>=0.23.0->geopandas) (2.8.1)\n",
            "Installing collected packages: munch, click-plugins, cligj, fiona, pyproj, geopandas\n",
            "Successfully installed click-plugins-1.1.1 cligj-0.5.0 fiona-1.8.17 geopandas-0.8.1 munch-2.5.0 pyproj-2.6.1.post1\n"
          ],
          "name": "stdout"
        },
        {
          "output_type": "execute_result",
          "data": {
            "application/vnd.google.colaboratory.intrinsic+json": {
              "type": "string"
            },
            "text/plain": [
              "'/content'"
            ]
          },
          "metadata": {
            "tags": []
          },
          "execution_count": 1
        }
      ]
    },
    {
      "cell_type": "markdown",
      "metadata": {
        "id": "L8-Yl5NVfwXv",
        "colab_type": "text"
      },
      "source": [
        "Create subdirectories."
      ]
    },
    {
      "cell_type": "code",
      "metadata": {
        "id": "mVFr4Ukyf3mL",
        "colab_type": "code",
        "colab": {
          "base_uri": "https://localhost:8080/",
          "height": 68
        },
        "outputId": "a5f8f728-46c9-4b61-da1a-369775f15d57"
      },
      "source": [
        "# creating a `data` directory, if it does not exist\n",
        "if not os.path.exists('data'):\n",
        "    os.mkdir('data')\n",
        "\n",
        "print(\"-\"*15, f\"data directory created\", \"-\"*15)\n",
        "\n",
        "\n",
        "# creating a `helpers` directory, if it does not exist\n",
        "if not os.path.exists('helpers'):\n",
        "    os.mkdir('helpers')\n",
        "\n",
        "print(\"-\"*15, f\"helpers directory created\", \"-\"*15)\n",
        "\n",
        "# creating a `pickles` directory, if it does not exist\n",
        "if not os.path.exists('pickles'):\n",
        "    os.mkdir('pickles')\n",
        "\n",
        "print(\"-\"*15, f\"pickles directory created\", \"-\"*15)\n"
      ],
      "execution_count": 3,
      "outputs": [
        {
          "output_type": "stream",
          "text": [
            "--------------- data directory created ---------------\n",
            "--------------- helpers directory created ---------------\n",
            "--------------- pickles directory created ---------------\n"
          ],
          "name": "stdout"
        }
      ]
    },
    {
      "cell_type": "markdown",
      "metadata": {
        "id": "rTcNxgNqtgU6",
        "colab_type": "text"
      },
      "source": [
        "# Data"
      ]
    },
    {
      "cell_type": "markdown",
      "metadata": {
        "id": "jAOtMyYUdUaJ",
        "colab_type": "text"
      },
      "source": [
        "We will bring in data and modules, from the previous repository, using URLs."
      ]
    },
    {
      "cell_type": "code",
      "metadata": {
        "id": "AtJodO4Wdhvb",
        "colab_type": "code",
        "colab": {
          "base_uri": "https://localhost:8080/",
          "height": 34
        },
        "outputId": "dcb5820e-9bfa-400a-d4e1-ca8d77540ede"
      },
      "source": [
        "# using `urllib` download files from Github repository\n",
        "\n",
        "# download `__init__.py` file to the helpers directory\n",
        "urllib.request.urlretrieve(url = \"https://raw.githubusercontent.com/jammy-bot/va-covid-eda/master/helpers/__init__.py\", \n",
        "                           filename = \"helpers/__init__.py\")"
      ],
      "execution_count": 7,
      "outputs": [
        {
          "output_type": "execute_result",
          "data": {
            "text/plain": [
              "('helpers/__init__.py', <http.client.HTTPMessage at 0x7f14a8471fd0>)"
            ]
          },
          "metadata": {
            "tags": []
          },
          "execution_count": 7
        }
      ]
    },
    {
      "cell_type": "code",
      "metadata": {
        "id": "pyzRJjvCoYTi",
        "colab_type": "code",
        "colab": {
          "base_uri": "https://localhost:8080/",
          "height": 34
        },
        "outputId": "7bf4e4c6-9df5-40bd-f5bf-e7839ab99f5c"
      },
      "source": [
        "# downloading `helper_func.py` file to the `helpers` directory\n",
        "urllib.request.urlretrieve(url = \"https://raw.githubusercontent.com/jammy-bot/va-covid-eda/master/helpers/helper_func.py\", \n",
        "                           filename = \"helpers/helper_func.py\")"
      ],
      "execution_count": 8,
      "outputs": [
        {
          "output_type": "execute_result",
          "data": {
            "text/plain": [
              "('helpers/helper_func.py', <http.client.HTTPMessage at 0x7f14a847f400>)"
            ]
          },
          "metadata": {
            "tags": []
          },
          "execution_count": 8
        }
      ]
    },
    {
      "cell_type": "code",
      "metadata": {
        "id": "VqL2vhbwpGy3",
        "colab_type": "code",
        "colab": {}
      },
      "source": [
        "# downloading serialized files to the `pickles` directory\n",
        "urllib.request.urlretrieve(url = \"https://raw.githubusercontent.com/jammy-bot/va-covid-eda/master/pickles/###\", \n",
        "                           filename = \"pickles/###\")"
      ],
      "execution_count": null,
      "outputs": []
    },
    {
      "cell_type": "markdown",
      "metadata": {
        "id": "UYRxBM1Pt62Z",
        "colab_type": "text"
      },
      "source": [
        ""
      ]
    },
    {
      "cell_type": "code",
      "metadata": {
        "id": "4mANHcL7tObm",
        "colab_type": "code",
        "colab": {}
      },
      "source": [
        ""
      ],
      "execution_count": null,
      "outputs": []
    },
    {
      "cell_type": "markdown",
      "metadata": {
        "id": "YkLwl-h-tkkN",
        "colab_type": "text"
      },
      "source": [
        "# Exploration"
      ]
    },
    {
      "cell_type": "markdown",
      "metadata": {
        "id": "EV5yJWTSt8F_",
        "colab_type": "text"
      },
      "source": [
        ""
      ]
    },
    {
      "cell_type": "code",
      "metadata": {
        "id": "2OPzMjs_uCBL",
        "colab_type": "code",
        "colab": {}
      },
      "source": [
        ""
      ],
      "execution_count": null,
      "outputs": []
    },
    {
      "cell_type": "markdown",
      "metadata": {
        "id": "OOxIexAAtp9y",
        "colab_type": "text"
      },
      "source": [
        "# Conclusions"
      ]
    },
    {
      "cell_type": "markdown",
      "metadata": {
        "id": "INUM1psht9SV",
        "colab_type": "text"
      },
      "source": [
        ""
      ]
    },
    {
      "cell_type": "code",
      "metadata": {
        "id": "XvMfEow7uDCK",
        "colab_type": "code",
        "colab": {}
      },
      "source": [
        ""
      ],
      "execution_count": null,
      "outputs": []
    }
  ]
}