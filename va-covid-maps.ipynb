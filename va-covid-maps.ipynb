{
  "nbformat": 4,
  "nbformat_minor": 0,
  "metadata": {
    "colab": {
      "name": "va-covid-maps.ipynb",
      "provenance": [],
      "collapsed_sections": [],
      "authorship_tag": "ABX9TyNoJp2u5VEErGL2a/nBLhbQ"
    },
    "kernelspec": {
      "name": "python3",
      "display_name": "Python 3"
    }
  },
  "cells": [
    {
      "cell_type": "markdown",
      "metadata": {
        "id": "hpPrQXB8tS2X",
        "colab_type": "text"
      },
      "source": [
        "# Overview"
      ]
    },
    {
      "cell_type": "markdown",
      "metadata": {
        "id": "xAkafZOnt5o0",
        "colab_type": "text"
      },
      "source": [
        "In notebooks at the [va-covid-eda](https://github.com/jammy-bot/va-covid-eda) github repository, we explore how cases of Coronavirus, consequent hospitalizations, and related deaths in Virginia's Hampton Roads region compare to those reported in other areas of the state, including the state's capital city of Richmond. We relied on interactive plotting with Plotly Express, to visualize data for multiple localities (including population data) on a single figure, with the option to hover or drill - down for greater detail (link to [Featured Notebooks](https://github.com/jammy-bot/va-covid-eda#featured-notebooks)).\n",
        "\n",
        "Animated plots used in our previous notebooks enable us to quickly make visual comparisons across multiple localities, over time. Even the few static plots we include clearly indicate that the Fairfax area was impacted more severely than other localities, in raw numbers as well as by per 1,000 of locality population. However, the plots do not easily reference some factors likely influencing the spread of the virus. They do not show us that Fairfax borders Washington, D.C., or that Virginia Beach (in Hampton Roads) is a regional tourist destination. This type of information might be better communicated, at a glance, by incorporating relevant maps images into our visualizations. That is what we will do in this current exploration.\n",
        "\n",
        "We will recall datasets from our previous exploration and stay within the same timeframe, for the sake of consistency. We also want to maintain a level interactive publishing ability, comparative to that which we attained by using the Plotly Express and Datapane libraries on Deepnote."
      ]
    },
    {
      "cell_type": "markdown",
      "metadata": {
        "id": "rdJUQ7RF8X9P",
        "colab_type": "text"
      },
      "source": [
        "# Import Libraries"
      ]
    },
    {
      "cell_type": "code",
      "metadata": {
        "id": "_he-LUqp8c4e",
        "colab_type": "code",
        "colab": {}
      },
      "source": [
        ""
      ],
      "execution_count": null,
      "outputs": []
    },
    {
      "cell_type": "markdown",
      "metadata": {
        "id": "rTcNxgNqtgU6",
        "colab_type": "text"
      },
      "source": [
        "# Data"
      ]
    },
    {
      "cell_type": "markdown",
      "metadata": {
        "id": "UYRxBM1Pt62Z",
        "colab_type": "text"
      },
      "source": [
        ""
      ]
    },
    {
      "cell_type": "code",
      "metadata": {
        "id": "4mANHcL7tObm",
        "colab_type": "code",
        "colab": {}
      },
      "source": [
        ""
      ],
      "execution_count": null,
      "outputs": []
    },
    {
      "cell_type": "markdown",
      "metadata": {
        "id": "YkLwl-h-tkkN",
        "colab_type": "text"
      },
      "source": [
        "# Exploration"
      ]
    },
    {
      "cell_type": "markdown",
      "metadata": {
        "id": "EV5yJWTSt8F_",
        "colab_type": "text"
      },
      "source": [
        ""
      ]
    },
    {
      "cell_type": "code",
      "metadata": {
        "id": "2OPzMjs_uCBL",
        "colab_type": "code",
        "colab": {}
      },
      "source": [
        ""
      ],
      "execution_count": null,
      "outputs": []
    },
    {
      "cell_type": "markdown",
      "metadata": {
        "id": "OOxIexAAtp9y",
        "colab_type": "text"
      },
      "source": [
        "# Conclusions"
      ]
    },
    {
      "cell_type": "markdown",
      "metadata": {
        "id": "INUM1psht9SV",
        "colab_type": "text"
      },
      "source": [
        ""
      ]
    },
    {
      "cell_type": "code",
      "metadata": {
        "id": "XvMfEow7uDCK",
        "colab_type": "code",
        "colab": {}
      },
      "source": [
        ""
      ],
      "execution_count": null,
      "outputs": []
    }
  ]
}